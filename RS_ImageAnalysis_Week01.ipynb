{
 "cells": [
  {
   "cell_type": "markdown",
   "metadata": {},
   "source": [
    "# Research Skills: Image Analysis\n",
    "## Worksheet 1 : Introduction to Images \n",
    "\n",
    "Sharon Ong, Department of Cognitive Science and Artificial Intelligence – Tilburg University"
   ]
  },
  {
   "cell_type": "markdown",
   "metadata": {},
   "source": [
    "In the session, we will learn: \n",
    "* How to load, display and save images   \n",
    "    * load grayscale, load color, display grayscale and display color and breakdown color images \n",
    "* Converting RGB images to \n",
    "    * HSV images\n",
    "    * grayscale images\n",
    "* Image Datatypes\n",
    "* Image Operations - adding, subtracting, multiplying and dividing images\n",
    "\n",
    "* Loading a collection of images\n",
    "* Blending images\n",
    "* Working with the PIL image library "
   ]
  },
  {
   "cell_type": "code",
   "execution_count": null,
   "metadata": {},
   "outputs": [],
   "source": [
    "# If you are running worksheets for image analysis for the first time or \n",
    "# if a \"no module found\" error occurs, \n",
    "\n",
    "# run this cell. \n",
    "# For the next there shouldn't be problems, especially if you run\n",
    "# the notebooks on your own laptop. However, shall any \"no module found\" error occur, you can simply copy\n",
    "# these lines and run them.\n",
    "\n",
    "!pip install --user imageio\n",
    "!pip install --user scikit-image"
   ]
  },
  {
   "cell_type": "markdown",
   "metadata": {},
   "source": [
    "## Entry level \n",
    "\n",
    "# 1. Loading, displaying and saving images \n",
    "\n",
    "Images are stored as files on the disk, so loading (reading) and writing images from the files are disk I/O operations. There are at least four different libraries with functions for Image I/O operations and image processing capbailities, which are\n",
    "* scikit-image\n",
    "* Python Imaging Library (PIL) \n",
    "* matplotlib \n",
    "* Python-OpenCV \n",
    "\n",
    "Let us load, display and save images with scikit-image"
   ]
  },
  {
   "cell_type": "markdown",
   "metadata": {},
   "source": [
    "## 1.1 Loading an image \n",
    "Let's load an image using scikit-image and print some of the properties of the image (width, height, mode, format, and the datatype). \n",
    "\n",
    "The following code uses the *imread()* function from scikit-image to read a grayscale image ('moon.tif') and a color image ('4.1.08.tiff') in a numpy ndarray of type uint8 (8-bit unsigned integer)."
   ]
  },
  {
   "cell_type": "code",
   "execution_count": null,
   "metadata": {},
   "outputs": [],
   "source": [
    "from skimage import io\n",
    "import numpy as np\n",
    "# read grayscale image from disk into a numpy array, provide the correct path \n",
    "im_gray = io.imread(\"images/moon.tif\") \n",
    "# display the shape (height, width), datatype and format \n",
    "print(im_gray.shape, im_gray.dtype, type(im_gray)) \n",
    "\n",
    "# read image from disk into a numpy array, provide the correct path \n",
    "im_color = io.imread(\"images/4.1.08.tiff\") \n",
    "# display the shape (height, width, channel), datatype and format \n",
    "print(im_color.shape, im_color.dtype, type(im_color)) "
   ]
  },
  {
   "cell_type": "markdown",
   "metadata": {},
   "source": [
    "## 1.2 Displaying images \n",
    "Let's display the gray image. A new window is created to display each image.  "
   ]
  },
  {
   "cell_type": "code",
   "execution_count": null,
   "metadata": {},
   "outputs": [],
   "source": [
    "# To display an image loaded with scikit-image library\n",
    "io.imshow(im_gray)\n"
   ]
  },
  {
   "cell_type": "code",
   "execution_count": null,
   "metadata": {},
   "outputs": [],
   "source": [
    "# To display the image with the matplotlib library \n",
    "import matplotlib.pylab as plt \n",
    "%matplotlib inline         \n",
    "# create a new figure of where the width = 800 pixels and height = 800 pixels or less \n",
    "plt.figure(figsize=(8,8)) \n",
    "plt.imshow(im_gray)\n"
   ]
  },
  {
   "cell_type": "markdown",
   "metadata": {},
   "source": [
    "For grayscale images, `cmap` parameter transforms the pixel intensities to a colormap. For information on the different colormaps can be found here.  \n",
    "https://matplotlib.org/3.1.0/gallery/color/colormap_reference.html\n",
    "\n",
    "To change the default colormap to a grayscale ranging from white and black, try:  "
   ]
  },
  {
   "cell_type": "code",
   "execution_count": null,
   "metadata": {},
   "outputs": [],
   "source": [
    "plt.imshow(im_gray,cmap='gray')"
   ]
  },
  {
   "cell_type": "markdown",
   "metadata": {},
   "source": [
    "The `imshow` function has two parameters `vmin` and `vmax`. All pixels with values less than or equal to the `vmin` parameter are set to black, all pixels with values greater or equal to the `vmax` parameter as white. \n",
    "\n",
    "Create code to perform the following\n",
    "1. Print the maximum and minimum intensities of the grayscale image (im_gray). You can use `np.amin(im_gray)` to find the minimum intensity of `im_gray`. \n",
    "2. Display the converted grayscale images setting `cmap='gray'` setting vmin to the minimum intensity value and vmax to the maximum intensity value\n",
    "3. Change the value of vmin and vmax (e.g. set `vmin=0` and `vmax = 150`). What do you see?  \n",
    "4. Display the converted grayscale images setting `cmap='gray_r'`. What do you see? "
   ]
  },
  {
   "cell_type": "code",
   "execution_count": null,
   "metadata": {},
   "outputs": [],
   "source": [
    "#\n",
    "# Your code goes here \n",
    "#"
   ]
  },
  {
   "cell_type": "markdown",
   "metadata": {},
   "source": [
    "The following code displays the color image within the notebook with the matplotlib library"
   ]
  },
  {
   "cell_type": "code",
   "execution_count": null,
   "metadata": {},
   "outputs": [],
   "source": [
    "import matplotlib.pylab as plt \n",
    "%matplotlib inline         \n",
    "# create a new figure of where the width = 800 pixels and height = 800 pixels or less \n",
    "plt.figure(figsize=(8,8)) \n",
    "plt.imshow(im_color)\n",
    "plt.axis('off')"
   ]
  },
  {
   "cell_type": "markdown",
   "metadata": {},
   "source": [
    "Display the RGB image as well as red, blue and green channels in a subplot. Label the RGB image as \n",
    "'Color Image' and the other three images are 'Red Channel', 'Blue Channel' and 'Green Channel'. "
   ]
  },
  {
   "cell_type": "code",
   "execution_count": null,
   "metadata": {},
   "outputs": [],
   "source": [
    "#\n",
    "# Your code goes here \n",
    "#"
   ]
  },
  {
   "cell_type": "markdown",
   "metadata": {},
   "source": [
    "## 1.3 Saving the image \n",
    "The folliwng code shows how you can write images to disk. When the code runs successfully, image files will be created in the directory you specified.  "
   ]
  },
  {
   "cell_type": "code",
   "execution_count": null,
   "metadata": {},
   "outputs": [],
   "source": [
    "# writing a grayscale image to disk with the sckit-image library  \n",
    "io.imsave(\"images/gray_image.jpg\",im_gray)\n",
    "\n",
    "# writing an color image to disk with the sckit-image library  \n",
    "io.imsave(\"images/color_image.jpg\",im_color)\n",
    "\n",
    "# writing an image (blue channel) to disk with the sckit-image library  \n",
    "io.imsave(\"images/blue_ch_image.jpg\",im_color[:,:,2])"
   ]
  },
  {
   "cell_type": "markdown",
   "metadata": {},
   "source": [
    "# 2. Image Histograms\n",
    "We can check the distribution of grayscale intensity values in an entire image with image histograms. For example, we can estimate background values, determining thresholds, and visualize the effect of contrast adjustments on the image. The following code displays intensity histograms. \n",
    "\n",
    "This means that the original data values, will be assigned to a bin into wich they fit according to their size. The original values will be replaced by values representing the corresponding intervals. The function `plt.hist` allows you to specify the number of bins to quantize the data. Binning is a form of quantization. The following code loads an image and displays the intensity histogram with a blue `facecolor` and a transparency value of (`alpha = 0.5`). \n",
    "1. Reduce the number of bins to 10 and increase the value of alpha to 0.8. \n",
    "2. Load a color image  (eg. im3 = io.imread(\"images/4.1.05.tiff\")) \n",
    "3. Using subplots, display the image in one plot (figure) and its 3 image histograms (one of each channel). Change the facecolor of first image histogram to red (facecolor='r'), the second one to green and the third one to blue. "
   ]
  },
  {
   "cell_type": "code",
   "execution_count": null,
   "metadata": {},
   "outputs": [],
   "source": [
    "from skimage.exposure import histogram \n",
    "from skimage import io, color\n",
    "import matplotlib.pyplot as plt\n",
    "%matplotlib inline\n",
    "\n",
    "im = io.imread('images/rice.png')     # read image from disk, provide the correct path \n",
    "print(im.shape)\n",
    "im_color = io.imread('images/4.1.05.tiff')     # read image from disk, provide the correct path \n",
    "\n",
    "###\n",
    "##\n",
    "# Your code goes here \n",
    "#\n",
    "###"
   ]
  },
  {
   "cell_type": "markdown",
   "metadata": {},
   "source": [
    "# 3. Image Datatypes and Classes "
   ]
  },
  {
   "cell_type": "markdown",
   "metadata": {},
   "source": [
    "There are different image types and image classes which can be read and processed in Python.  \n",
    "Single channel images where each pixel is represented by a single value include: \n",
    "* (Grayscale( Intensity images: \n",
    "  * uint16 [0, 65535] (CCD cameras on microscopes, medical images, some satellite images) \n",
    "  * uint8 [0, 255] (From your standard digital camera) \n",
    "  * float64 [$−2^{32}, −2^{32}$] \n",
    "* Binary images (black and white)\n",
    "  * logical, 0 or 1\n",
    "In multi-channel images, each pixel is represented by a tuple of values, such as: \n",
    "* 3 channel images, for example:  \n",
    "    * RGB images where each pixel is represented by 3 values representing red, green, and blue channel color  \n",
    "    * HSV images where each pixel is represented by 3 values representing hue, saturation and value channel \n",
    "* Four-channel images, for example:\n",
    "    * RGBA images where each pixel is represented by 4 values representing red, green, blue channel colors and alpha (the transparency)"
   ]
  },
  {
   "cell_type": "markdown",
   "metadata": {},
   "source": [
    "## 3.1 Converting RGB images to HSV images\n",
    "HSV images comprises of three channels \n",
    "* h (hue or color: dominant wave length of reflected light),\n",
    "* s (saturation or how much the color is mixed with white) and \n",
    "* v (value or brightness or how much the color is mixed with black) \n",
    "The HSV model describes colors in a similar manner to how the human eye tends to perceive colors. An colored RGB image can be converted into an HSV image using the hsv2rgb() function from the scikit-image color module.  The following code converts an rgb to a hsv image. "
   ]
  },
  {
   "cell_type": "code",
   "execution_count": null,
   "metadata": {},
   "outputs": [],
   "source": [
    "from skimage import io, color\n",
    "im = io.imread(\"images/4.1.08.tiff\")     # read image from disk, provide the correct path \n",
    "print(im.shape, im.dtype, type(im)) # (362, 486, 3) uint8 <class 'numpy.ndarray'> \n",
    "imhsv = color.rgb2hsv(im) # from RGB to HSV color space # change the saturation"
   ]
  },
  {
   "cell_type": "markdown",
   "metadata": {},
   "source": [
    "Display the HSV image as well as hue, saturation and value channels in a subplot. Label each image with correct the HSV band "
   ]
  },
  {
   "cell_type": "code",
   "execution_count": null,
   "metadata": {},
   "outputs": [],
   "source": [
    "#\n",
    "# Your code goes here \n",
    "#"
   ]
  },
  {
   "cell_type": "markdown",
   "metadata": {},
   "source": [
    "## 3.2 Converting RGB images to grayscale \n",
    "The following code show how you can convert an RGB image to a grayscale image with different Python libraries. "
   ]
  },
  {
   "cell_type": "code",
   "execution_count": null,
   "metadata": {},
   "outputs": [],
   "source": [
    "# load an image as grayscale with PIL \n",
    "from skimage import io, color\n",
    "import numpy as np\n",
    "\n",
    "# convert an image to grayscale with sckit-image \n",
    "imSK = io.imread(\"images/tilburg_700.jpg\")     # read image from disk, provide the correct path \n",
    "imSKgray = color.rgb2gray(imSK)\n",
    "print(imSKgray.shape, imSKgray.dtype, type(imSKgray)) "
   ]
  },
  {
   "cell_type": "markdown",
   "metadata": {},
   "source": [
    "## 3.3 Datatypes\n",
    "Images read from disk in the form of an unsigned integer ($uint16$ denotes 16-bit unsigned integer, and $uint8$ denotes 8-bit unsigned integer). However, some mathematical operations that involve a decimal point, such as log) can only be done with arrays of type $float$. The following code first loads the image from disk and then converts it from $uint8$ to $float$.\n"
   ]
  },
  {
   "cell_type": "code",
   "execution_count": null,
   "metadata": {},
   "outputs": [],
   "source": [
    "from skimage import io, color\n",
    "im = io.imread(\"images/tilburg_700.jpg\")     # read image from disk, provide the correct path \n",
    "print(im.shape, im.dtype, type(im)) \n",
    "print('minimum intensity: ', np.amin(im)) #print out the minimum intensity\n",
    "print('maximum intensity: ', np.amax(im)) #print out the maximum intensity\n",
    "\n",
    "imf = im.astype(float)\n",
    "print(imf.shape, imf.dtype, type(imf)) \n",
    "print('minimum intensity: ', np.amin(imf)) #print out the minimum intensity\n",
    "print('maximum intensity: ', np.amax(imf)) #print out the maximum intensity"
   ]
  },
  {
   "cell_type": "markdown",
   "metadata": {},
   "source": [
    "Many Python image processing operations operate under the assumption that the image is scaled to the range [0,1]. For instance, when imshow displays an float image, it displays an intensity of 0 as black and 1 as white. We can automatically create a scaled double image using rgb2gray. "
   ]
  },
  {
   "cell_type": "markdown",
   "metadata": {},
   "source": [
    "# 4. Image Operations \n",
    "You can add, subtract, multiple and divide images of the same size. \n",
    "\n",
    "## 4.1 Adding two images\n",
    "Let's compare the results of adding two images. The following code loads two RGB images "
   ]
  },
  {
   "cell_type": "code",
   "execution_count": null,
   "metadata": {},
   "outputs": [],
   "source": [
    "from skimage import io, color, data\n",
    "import numpy as np\n",
    "import matplotlib.pylab as plt \n",
    "%matplotlib inline        \n",
    "\n",
    "# load two RGB images \n",
    "im1 = io.imread('images/4.1.05.tiff'); \n",
    "im2 = io.imread('images/4.1.08.tiff'); "
   ]
  },
  {
   "cell_type": "markdown",
   "metadata": {},
   "source": [
    "We will compare the results of adding unsigned integer images with images in the 'float' datatypes. \n",
    "\n",
    "1. Print the datatype, (e.g im1.dtype for im1), the maximum and minimum intensity of im1 and im2 \n",
    "2. Add the two unsigned integer images (e.g im3 = im1 + im2) \n",
    "3. Print the datatype, (e.g im1.dtype for im1), the maximum and minimum intensity of added image\n",
    "4. Display the RGB image and the red, blue and green channels separately  \n",
    "5. Convert im1 and im2 to float and add the two images \n",
    "6. Print the datatype, (e.g im1.dtype for im1), the maximum and minimum intensity of resultant image of 5.\n",
    "7. Divide the resultant image by the maximum intensity \n",
    "8. Display the image obtained in 7 and its red, blue and green channels separately  "
   ]
  },
  {
   "cell_type": "code",
   "execution_count": null,
   "metadata": {},
   "outputs": [],
   "source": [
    "####\n",
    "#\n",
    "# Your code goes here "
   ]
  },
  {
   "cell_type": "markdown",
   "metadata": {},
   "source": [
    "## 4.2 Subtract two images \n",
    "Let's compare the results of subtracting an image by another images. Perform an image subtraction with the same images as in 3.1"
   ]
  },
  {
   "cell_type": "code",
   "execution_count": null,
   "metadata": {},
   "outputs": [],
   "source": [
    "####\n",
    "#\n",
    "# Your code goes here \n",
    "#\n",
    "###"
   ]
  },
  {
   "cell_type": "markdown",
   "metadata": {},
   "source": [
    "# Advanced level"
   ]
  },
  {
   "cell_type": "markdown",
   "metadata": {},
   "source": [
    "# 5. Loading a collection of images  \n",
    "Use the scikit-image library's functions (e.g. io.ImageCollection) to read a collection of images and display them as a montage. \n",
    "In other words, display the images using subplots where each subplot shows one image. You will need to set the number of rows or columns in the subplot such that all the images are displayed. \n",
    "https://scikit-image.org/docs/0.7.0/api/skimage.io.collection.html"
   ]
  },
  {
   "cell_type": "code",
   "execution_count": null,
   "metadata": {},
   "outputs": [],
   "source": [
    "###\n",
    "#\n",
    "# Your code goes here \n",
    "#\n",
    "###"
   ]
  },
  {
   "cell_type": "markdown",
   "metadata": {},
   "source": [
    "# 6. Blend two images (alpha blending) \n",
    "\n",
    "You can create a new image by interpolating between two given images (of the same size and same mode) by using constant alpha. \n",
    "This is known as image morphing or alpha blending of two images using cross dissolving.  The value alpha typically ranges between 0 and 1.  \n",
    "\n",
    "        output = im1 * (1.0 - alpha) + im2 * alpha\n",
    "\n",
    "The following code creates space for a large figure and loads an image of Messi (im1) and an image of Ronaldo (im2). "
   ]
  },
  {
   "cell_type": "code",
   "execution_count": null,
   "metadata": {},
   "outputs": [],
   "source": [
    "plt.figure(figsize=(18,15)) \n",
    "im1 = io.imread(\"images/messi.jpg\");\n",
    "im2 = io.imread(\"images/ronaldo.jpg\");"
   ]
  },
  {
   "cell_type": "markdown",
   "metadata": {},
   "source": [
    "Start with one face image (e.g the face of Messi) and end up with another image (the face of Ronaldo) by varying the values of alpha in a for loop. Eg: \n",
    "\n",
    "        for alpha in np.linspace(0,1,20):   \n",
    "\n",
    "Display the output image for each alpha value.  "
   ]
  },
  {
   "cell_type": "code",
   "execution_count": null,
   "metadata": {},
   "outputs": [],
   "source": [
    "###\n",
    "#\n",
    "# Your code goes here \n",
    "#\n",
    "###"
   ]
  },
  {
   "cell_type": "markdown",
   "metadata": {},
   "source": [
    "Append the output (blended) images and create a gif file from all the output images. "
   ]
  },
  {
   "cell_type": "code",
   "execution_count": null,
   "metadata": {},
   "outputs": [],
   "source": [
    "###\n",
    "#\n",
    "# Your code goes here \n",
    "#\n",
    "###"
   ]
  },
  {
   "cell_type": "markdown",
   "metadata": {},
   "source": [
    "# 7. Image I/O operations with the Python Imaging Library (PIL) \n",
    "The following code loads images with the PIL library. You will see that the PIL loads the image as a `PIL.PngImagePlugin.JpegImageFile` object while the other libraries load the images as arrays. "
   ]
  },
  {
   "cell_type": "code",
   "execution_count": null,
   "metadata": {},
   "outputs": [],
   "source": [
    "## Loading an image with PIL \n",
    "from PIL import Image\n",
    "import numpy as np\n",
    "# read the image from the correct path\n",
    "imPIL = Image.open(\"images/tilburg_694.jpg\") \n",
    "# display the properties of the image  \n",
    "print(imPIL.width, imPIL.height, imPIL.mode, imPIL.format, type(imPIL))\n",
    "\n"
   ]
  },
  {
   "cell_type": "markdown",
   "metadata": {},
   "source": [
    "Let's display the images. A new window is created to display each image.  "
   ]
  },
  {
   "cell_type": "code",
   "execution_count": null,
   "metadata": {},
   "outputs": [],
   "source": [
    "import matplotlib.pylab as plt \n",
    "import numpy as np \n",
    "\n",
    "# To display the PIL image with the PIL library\n",
    "imPIL.show() "
   ]
  },
  {
   "cell_type": "markdown",
   "metadata": {},
   "source": [
    "You can also use the IPython Public API (Application Programming Interface) for displaying images in the notebook. The function $display()$ takes in a PIL Image object. "
   ]
  },
  {
   "cell_type": "code",
   "execution_count": null,
   "metadata": {},
   "outputs": [],
   "source": [
    "import IPython.display\n",
    "IPython.display.display(imPIL)\n",
    "# convert numpy image to PIL Image object for display  \n",
    "IPython.display.display(Image.fromarray(im_color))"
   ]
  },
  {
   "cell_type": "markdown",
   "metadata": {},
   "source": [
    "The folliwng code  shows how you can write images to disk. When the code runs successfully, image files will be created in the directory you specified. "
   ]
  },
  {
   "cell_type": "code",
   "execution_count": null,
   "metadata": {},
   "outputs": [],
   "source": [
    "imPIL.save('images/tilburgPIL.jpg')"
   ]
  },
  {
   "cell_type": "markdown",
   "metadata": {},
   "source": [
    "The split() operation from PIL can be used separate the image into bands of red, green and blue.\n",
    "The following code loads a RGB image as a PIL object splits into multiple channels "
   ]
  },
  {
   "cell_type": "code",
   "execution_count": null,
   "metadata": {},
   "outputs": [],
   "source": [
    "imPIL = Image.open(\"images/4.1.08.tiff\") \n",
    "im_red, im_green,im_blue = imPIL.split()"
   ]
  },
  {
   "cell_type": "markdown",
   "metadata": {},
   "source": [
    "The following code converts the image to grayscale with "
   ]
  },
  {
   "cell_type": "code",
   "execution_count": null,
   "metadata": {},
   "outputs": [],
   "source": [
    "imgGray = imPIL.convert('L')"
   ]
  },
  {
   "cell_type": "markdown",
   "metadata": {},
   "source": [
    "Compare grayscale conversion of two different libraries (PIL and scikit-learn). Take a color image of your choice,\n",
    "1. convert the color image to grayscale with the PIL. Call this grayscale image as img1 \n",
    "2. convert the color image to grayscale with the scikit-learn. Call this grayscale image as img2  (***  then ask to either multiply the skimage with 255 or noramlize the PIL to between 0 and 1\n",
    "3. subtract img1 with img2\n",
    "4. convert img1 and img2 to 'float', create another image which is the absolute difference of img1 and img2,  and display the results \n",
    "\n",
    "If these two libraries return the same grayscale image, you will get a black image (of zeros) as the result. Are they the same? "
   ]
  },
  {
   "cell_type": "code",
   "execution_count": null,
   "metadata": {
    "scrolled": true
   },
   "outputs": [],
   "source": [
    "###\n",
    "#\n",
    "# Your code goes here \n",
    "#\n",
    "###"
   ]
  },
  {
   "cell_type": "code",
   "execution_count": null,
   "metadata": {},
   "outputs": [],
   "source": []
  }
 ],
 "metadata": {
  "kernelspec": {
   "display_name": "Python 3 (ipykernel)",
   "language": "python",
   "name": "python3"
  },
  "language_info": {
   "codemirror_mode": {
    "name": "ipython",
    "version": 3
   },
   "file_extension": ".py",
   "mimetype": "text/x-python",
   "name": "python",
   "nbconvert_exporter": "python",
   "pygments_lexer": "ipython3",
   "version": "3.9.7"
  }
 },
 "nbformat": 4,
 "nbformat_minor": 4
}
