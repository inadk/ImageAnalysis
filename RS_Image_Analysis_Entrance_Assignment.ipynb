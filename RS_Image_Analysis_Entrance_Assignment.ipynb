{
 "cells": [
  {
   "cell_type": "markdown",
   "metadata": {},
   "source": [
    "# Research Skills: Image Analysis - Entrance Assignment \n",
    "Sharon Ong, Department of Cognitive Science and Artificial Intelligence – Tilburg University\n",
    "\n",
    "Academic Year 2023-2024"
   ]
  },
  {
   "cell_type": "markdown",
   "metadata": {},
   "source": [
    "This entrace assignment does not count towards your final grade. It is used for you to assess whether you are able to manage with the coursework. No resits will be provided as this assignment does not count towards your final grade. \n",
    "\n",
    "This assignment is due on Saturday, 3rd February, 2024. "
   ]
  },
  {
   "cell_type": "markdown",
   "metadata": {},
   "source": [
    "# Numpy \n",
    "\n",
    "Numpy (https://numpy.org/) is one of the fundamental packages for scientific computing in Python. It contains functionality for multidimensional arrays, high-level mathematical functions and pseudorandom number generators. \n",
    "\n",
    "Different Python libraries can be used for basic image manipulation. Almost all of the libraries store an image in numpy ndarray (a 2-D array for grayscale and a 3-D array for an RGB image, for example). \n",
    "\n",
    "Having a solid understanding of numpy is necessary if you want to work on image analysis projects. In this course, we will mainly use the scikit-image package to build image analysis applications. This works heavily with numpy as well.  \n",
    "\n",
    "Numpy provides the excellent ndarray objects, short for n-dimensional arrays. In a ‘ndarray’ object, aka ‘array’, you can store multiple items of the same data type. There are facilities around the array object that makes numpy so convenient for performing math and data manipulations.\n",
    "\n",
    "Complete the following exercises with numpy. "
   ]
  },
  {
   "cell_type": "markdown",
   "metadata": {},
   "source": [
    "1. Create a 1D numpy array with the contents of list1 and print the result "
   ]
  },
  {
   "cell_type": "code",
   "execution_count": 2,
   "metadata": {},
   "outputs": [],
   "source": [
    "import numpy as np\n",
    "\n",
    "list1 = [0,1,2,3,4]\n",
    "# \n",
    "# Your code goes here \n",
    "# "
   ]
  },
  {
   "cell_type": "markdown",
   "metadata": {},
   "source": [
    "2. Create a 2D array of 2 rows and 3 columns with numbers of your choice. \n",
    "3. Increase every number in the array by 2 (add 2 to every number in the array). Print the results "
   ]
  },
  {
   "cell_type": "code",
   "execution_count": null,
   "metadata": {},
   "outputs": [],
   "source": [
    "#\n",
    "# Your code goes here \n",
    "#"
   ]
  },
  {
   "cell_type": "markdown",
   "metadata": {},
   "source": [
    "4. Print the shape, data types, size and number of dimensions "
   ]
  },
  {
   "cell_type": "code",
   "execution_count": null,
   "metadata": {},
   "outputs": [],
   "source": [
    "#\n",
    "# Your code goes here \n",
    "#"
   ]
  },
  {
   "cell_type": "markdown",
   "metadata": {},
   "source": [
    "5.  Create a numpy array which will print the following output \n",
    " \n",
    "#> ['1' '2' 'a' 'b']"
   ]
  },
  {
   "cell_type": "code",
   "execution_count": null,
   "metadata": {},
   "outputs": [],
   "source": [
    "#\n",
    "# Your code goes here \n",
    "#"
   ]
  },
  {
   "cell_type": "markdown",
   "metadata": {},
   "source": [
    "6. Reverse the rows of the following numpy array "
   ]
  },
  {
   "cell_type": "code",
   "execution_count": 4,
   "metadata": {},
   "outputs": [
    {
     "name": "stdout",
     "output_type": "stream",
     "text": [
      "[[1. 2. 3. 4.]\n",
      " [3. 4. 5. 6.]\n",
      " [5. 6. 7. 8.]]\n"
     ]
    }
   ],
   "source": [
    "list = [[1, 2, 3, 4],[3, 4, 5, 6], [5, 6, 7, 8]]\n",
    "arr = np.array(list, dtype='float')\n",
    "print(arr)\n",
    "#\n",
    "# Your code goes here \n",
    "#"
   ]
  },
  {
   "cell_type": "markdown",
   "metadata": {},
   "source": [
    "7. Compute the mean and standard deviation of the numpy array (arr)"
   ]
  },
  {
   "cell_type": "code",
   "execution_count": null,
   "metadata": {},
   "outputs": [],
   "source": [
    "#\n",
    "# Your code goes here \n",
    "#"
   ]
  },
  {
   "cell_type": "markdown",
   "metadata": {},
   "source": [
    "8. Compute the minimum values row wise or column wise (use the np.amin version)"
   ]
  },
  {
   "cell_type": "code",
   "execution_count": null,
   "metadata": {},
   "outputs": [],
   "source": [
    "#\n",
    "# Your code goes here \n",
    "#"
   ]
  },
  {
   "cell_type": "markdown",
   "metadata": {},
   "source": [
    "9. Flatten the numpy array 'arr'. You can use the flatten() or the ravel() method\n",
    "These are 2 popular ways to implement flattening. The difference between ravel and flatten is, the new array created using ravel is actually a reference to the parent array. So, any changes to the new array will affect the parent as well. But is memory efficient since it does not create a copy."
   ]
  },
  {
   "cell_type": "code",
   "execution_count": null,
   "metadata": {},
   "outputs": [],
   "source": [
    "#\n",
    "# Your code goes here \n",
    "#\n",
    "# transpose the image\n",
    "\n",
    "# "
   ]
  },
  {
   "cell_type": "markdown",
   "metadata": {},
   "source": [
    "##  matplotlib \n",
    "matplotlib is the primary scientific plotting library in Python, providing functions for making publication-quality visualizations. You can show figures directly in browser using the \"%matplotlib notebook\" or \"%matlplotlib inline\" commands. You can create the plot with generated arrays 'x' and 'y'. (Plot x vs y), with different markers and label the x and y axis. Run the code below: "
   ]
  },
  {
   "cell_type": "code",
   "execution_count": null,
   "metadata": {},
   "outputs": [],
   "source": [
    "%matplotlib notebook\n",
    "import matplotlib.pyplot as plt\n",
    "\n",
    "# Generate a sequence of numbers from -10 to 10 with 100 steps in between\n",
    "x = np.linspace(-10, 10, 100)\n",
    "# Create a second array using sine\n",
    "y = np.sin(x)\n",
    "# The plot function makes a line chart of one array against another\n",
    "plt.figure()\n",
    "plt.plot(x, y, 'r.')\n",
    "plt.xlabel('x')\n",
    "plt.ylabel('y')\n",
    "plt.figure()\n",
    "plt.plot(x, 2*y, 'b+')\n",
    "plt.xlabel('x')\n",
    "plt.ylabel('y')"
   ]
  }
 ],
 "metadata": {
  "kernelspec": {
   "display_name": "Python 3 (ipykernel)",
   "language": "python",
   "name": "python3"
  },
  "language_info": {
   "codemirror_mode": {
    "name": "ipython",
    "version": 3
   },
   "file_extension": ".py",
   "mimetype": "text/x-python",
   "name": "python",
   "nbconvert_exporter": "python",
   "pygments_lexer": "ipython3",
   "version": "3.11.5"
  }
 },
 "nbformat": 4,
 "nbformat_minor": 4
}
